{
 "cells": [
  {
   "cell_type": "markdown",
   "metadata": {},
   "source": [
    "# Linear Regression"
   ]
  },
  {
   "attachments": {},
   "cell_type": "markdown",
   "metadata": {},
   "source": [
    "## Formulation"
   ]
  },
  {
   "attachments": {},
   "cell_type": "markdown",
   "metadata": {},
   "source": [
    "The governing equation for linear regression can be expressed as:\n",
    "\n",
    "\\begin{equation} \n",
    "\\mathbf{Y} = \\mathbf{\\beta}\\mathbf{X} + \\epsilon, \n",
    "\\end{equation}\n",
    "\n",
    "where,\n",
    "\n",
    "$$\n",
    "  \\begin{align*}\n",
    "    \\mathbf{Y} &= \\begin{bmatrix}\n",
    "           y_{1} \\\\\n",
    "           y_{2} \\\\\n",
    "           \\vdots \\\\\n",
    "           y_{n}\n",
    "         \\end{bmatrix}\n",
    "  \\end{align*},\n",
    "  \\begin{align*}\n",
    "    \\mathbf{\\beta} &= \\begin{bmatrix}\n",
    "           \\beta_{1} \\\\\n",
    "           \\beta_{2} \\\\\n",
    "           \\vdots \\\\\n",
    "           \\beta_{m}\n",
    "         \\end{bmatrix}\n",
    "  \\end{align*}, \n",
    "  \\begin{align*}\n",
    "    \\mathbf{X} &= \\begin{bmatrix}\n",
    "           x^T_{1} \\\\\n",
    "           x^T_{2} \\\\\n",
    "           \\vdots \\\\\n",
    "           x^T_{n}\n",
    "         \\end{bmatrix}\n",
    "  \\end{align*},\n",
    "  \\begin{align*}\n",
    "    \\mathbf{\\epsilon} &= \\begin{bmatrix}\n",
    "           \\epsilon_{1} \\\\\n",
    "           \\epsilon_{2} \\\\\n",
    "           \\vdots \\\\\n",
    "           \\epsilon_{n}\n",
    "         \\end{bmatrix}\n",
    "  \\end{align*}.\n",
    "  $$\n",
    "\n",
    "\n",
    "$\\mathbf{Y}$ is the target variable, $\\mathbf{X}$ is the feature matrix, $\\epsilon$ is the error term or intercept and $\\mathbf{\\beta}$ is the vector of coefficients. "
   ]
  },
  {
   "attachments": {},
   "cell_type": "markdown",
   "metadata": {},
   "source": [
    "The aim is to find solutions for the coefficients and error term such that\n",
    "\n",
    "\\begin{equation}\n",
    "\\tilde{\\mathbf{Y}} = \\mathbf{\\beta}\\mathbf{X} + \\epsilon, \n",
    "\\end{equation}\n",
    "\n",
    "that minimises $\\mathbf{Y} - \\tilde{\\mathbf{Y}}$"
   ]
  },
  {
   "cell_type": "markdown",
   "metadata": {},
   "source": []
  }
 ],
 "metadata": {
  "kernelspec": {
   "display_name": "Python 3.9.13 64-bit (microsoft store)",
   "language": "python",
   "name": "python3"
  },
  "language_info": {
   "codemirror_mode": {
    "name": "ipython",
    "version": 3
   },
   "file_extension": ".py",
   "mimetype": "text/x-python",
   "name": "python",
   "nbconvert_exporter": "python",
   "pygments_lexer": "ipython3",
   "version": "3.8.13"
  },
  "vscode": {
   "interpreter": {
    "hash": "b4cdd1fa38e5387d7e95cfc9d5ddbca6a16bb791b71067a8d9ce0a7e1ae005ad"
   }
  }
 },
 "nbformat": 4,
 "nbformat_minor": 2
}